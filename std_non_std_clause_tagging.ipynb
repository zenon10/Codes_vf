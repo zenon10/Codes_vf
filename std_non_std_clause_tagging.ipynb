{
  "nbformat": 4,
  "nbformat_minor": 0,
  "metadata": {
    "colab": {
      "provenance": [],
      "mount_file_id": "1OUM8xjy27lDMuLKBeq_FEuK6EDO9PllB",
      "authorship_tag": "ABX9TyO/FJZ0aQAnup36KX4zqkC3",
      "include_colab_link": true
    },
    "kernelspec": {
      "name": "python3",
      "display_name": "Python 3"
    },
    "language_info": {
      "name": "python"
    }
  },
  "cells": [
    {
      "cell_type": "markdown",
      "metadata": {
        "id": "view-in-github",
        "colab_type": "text"
      },
      "source": [
        "<a href=\"https://colab.research.google.com/github/zenon10/ria_codes_vf/blob/main/std_non_std_clause_tagging.ipynb\" target=\"_parent\"><img src=\"https://colab.research.google.com/assets/colab-badge.svg\" alt=\"Open In Colab\"/></a>"
      ]
    },
    {
      "cell_type": "markdown",
      "source": [
        "## Installation"
      ],
      "metadata": {
        "id": "38rAByjdLnX8"
      }
    },
    {
      "cell_type": "code",
      "source": [
        "import pandas as pd\n",
        "import json\n",
        "import os"
      ],
      "metadata": {
        "id": "dZsCmgdgtNo-"
      },
      "execution_count": 65,
      "outputs": []
    },
    {
      "cell_type": "code",
      "source": [
        "# df = pd.read_csv('/content/drive/MyDrive/Zenon_POC_OCR/Clause Management_Deep Dive France_Mapping Document_key words.csv')"
      ],
      "metadata": {
        "id": "UMVSXO1os8yx"
      },
      "execution_count": 23,
      "outputs": []
    },
    {
      "cell_type": "code",
      "source": [
        "# clause = \"\"\"Dans le délai de paiement sont incluses les phases de réception de la commande et de certification du \n",
        "#                     service fait par le service gestionnaire, de visa de la dépense (appelé aussi le mandatement) et de \n",
        "#                     règlement par le comptable public. En cas de dépassement du délai de paiement, des intérêts moratoires \n",
        "#                     sont versés au titulaire, calculés par application de la formule suivante : IM = M x J/365 x Taux IM + F ; \n",
        "#                     Dans laquelle : IM : montant des intérêts moratoires - M : montant TTC de la demande de paiement - Taux IM :\n",
        "#                     taux de la Banque Centrale Européenne en vigueur majoré de 8 points - J : nombre de jours calendaires entre \n",
        "#                     la date limite et la date réelle de paiement - F : forfait de 40 € de frais de recouvrement \"\"\"\n"
      ],
      "metadata": {
        "id": "2yPwNKKwTT2q"
      },
      "execution_count": 26,
      "outputs": []
    },
    {
      "cell_type": "code",
      "source": [
        "def std_clause(df, clause):\n",
        "\n",
        "    std = []\n",
        "\n",
        "    for indx, stdd in enumerate(df['std/non-std'], 0):\n",
        "        if stdd == 'std':\n",
        "            keywords = df['list of keywords for std/non-std'][indx].split(',')\n",
        "\n",
        "            if len(keywords) > 1:\n",
        "                count = 0\n",
        "                for k in keywords[:-1]:\n",
        "                    if clause.__contains__(k):\n",
        "                        # print(k)\n",
        "                        count = count + 1\n",
        "                        std.append(stdd) if count == len(keywords[:-1]) else ''\n",
        "            else:\n",
        "                for k in keywords:\n",
        "                    if clause.__contains__(k):\n",
        "                        std.append(stdd)\n",
        "            \n",
        "    return std"
      ],
      "metadata": {
        "id": "fKRjSKvQiEZ1"
      },
      "execution_count": 75,
      "outputs": []
    },
    {
      "cell_type": "code",
      "source": [
        "def non_std_clause(df, clause):\n",
        "    \n",
        "    non_std = []\n",
        "    for indx, nonstd in enumerate(df['std/non-std'], 0):\n",
        "        if nonstd == 'non-std':\n",
        "            keywords = df['list of keywords for std/non-std'][indx].split(',')\n",
        "\n",
        "            if len(keywords) > 1:\n",
        "                count = 0\n",
        "                for k in keywords[:-1]:\n",
        "                    if clause.__contains__(k):\n",
        "                        # print(k)\n",
        "                        count = count + 1\n",
        "                        non_std.append(nonstd) if count != 0 else ''\n",
        "                    else:\n",
        "                        for k in keywords:\n",
        "                            if clause.__contains__(k):\n",
        "                                non_std.append(nonstd)\n",
        "\n",
        "    return non_std\n",
        "\n",
        "\n"
      ],
      "metadata": {
        "id": "0gbRhqJGiGFO"
      },
      "execution_count": 76,
      "outputs": []
    },
    {
      "cell_type": "code",
      "source": [
        "def classify_std_nonstd_wrapper(input_file_path, input_json_path, output_folder_path): ## put metadata input file path and call json path from there\n",
        "\n",
        "    if not os.path.exists(output_folder_path):\n",
        "        os.makedirs(output_folder_path )\n",
        "\n",
        "    df = pd.read_csv(input_file_path)\n",
        "    df=df.fillna('')\n",
        "\n",
        "    # import json\n",
        "    # Opening JSON file\n",
        "    with open(input_json_path) as json_file:\n",
        "        data = json.load(json_file)\n",
        "\n",
        "        for i in data['clauses']:\n",
        "            if i['clause'] in ['samples_tc','shipment_and_delivery_requirements_tc','sustainability_tc','demo_session_tc', 'list_of_documents_required_tc', 'delivery_time_tc','delivery_specifications_tc', 'capital_equipment_loan_contract_tc','maintenance_contract_tc', 'delay_penalties_(supply)_tc', 'delay_penalties_for_claims_management_tc','signing_required_tc', 'renewal_clause_tc', 'tender_description_tc']:\n",
        "                i['classify_std/non-std'] = 'non-std'\n",
        "                print(i['clause'])\n",
        "            else:\n",
        "                # Calling std function\n",
        "                std = std_clause(df, i['value'])\n",
        "                i['classify_std/non-std'] = std \n",
        "                \n",
        "                if not std:\n",
        "                    print('Empty list')\n",
        "                    non_std = non_std_clause(df, i['value'])\n",
        "                    print(non_std)\n",
        "                    i['classify_std/non-std'] = non_std\n",
        "                else:\n",
        "                    print('List is not Empty \\n',std)\n",
        "            \n",
        "    with open(output_folder_path + '/nameofdoc.json', 'w', encoding = 'utf-8') as f: # check once for utf\n",
        "        json.dump(data, f, indent=2)\n",
        "## make column B anfd f combination\n",
        "\n"
      ],
      "metadata": {
        "id": "oH5gN9rgiJNn"
      },
      "execution_count": 81,
      "outputs": []
    },
    {
      "cell_type": "code",
      "source": [
        "input_file_path = '/content/drive/MyDrive/Zenon_POC_OCR/Clause Management_Deep Dive France_Mapping Document_key words.csv'\n",
        "input_json_path = '/content/drive/MyDrive/Zenon_POC_OCR/clauses_response_flat_format_new.json'\n",
        "output_folder_path = '/content/drive/MyDrive/Zenon_POC_OCR/output_std_nonstd'\n",
        "\n",
        "classify_std_nonstd_wrapper(input_file_path, input_json_path, output_folder_path)\n"
      ],
      "metadata": {
        "colab": {
          "base_uri": "https://localhost:8080/"
        },
        "id": "VAqOkKI_qtfE",
        "outputId": "3b5a91a9-cacb-452c-cde5-e429e1e50a0e"
      },
      "execution_count": 82,
      "outputs": [
        {
          "output_type": "stream",
          "name": "stdout",
          "text": [
            "samples_tc\n",
            "Empty list\n",
            "[]\n",
            "Empty list\n",
            "[]\n",
            "Empty list\n",
            "[]\n",
            "Empty list\n",
            "[]\n",
            "Empty list\n",
            "[]\n",
            "Empty list\n",
            "[]\n",
            "List is not Empty \n",
            " ['std']\n",
            "List is not Empty \n",
            " ['std']\n",
            "sustainability_tc\n"
          ]
        }
      ]
    },
    {
      "cell_type": "code",
      "source": [
        "# clause_type = []\n",
        "# for i in ['Samples','Shipment And Delivery Requirements','Sustainability','Demo session','List of documents required','Delivery time','Delivery specifications',\n",
        "#              'Capital equipment loan contract','Maintenance contract','Delay penalties (supply)','Delay penalties for claims management','Signing required','Renewal clause',\n",
        "#              'Tender Description']:\n",
        "#              i = i.lower()\n",
        "#              i = i.split()\n",
        "#              i = \"_\".join(i)\n",
        "#              i = i + '_tc'\n",
        "#              clause_type.append(i)"
      ],
      "metadata": {
        "id": "uJRzQJfpl6Z5"
      },
      "execution_count": 52,
      "outputs": []
    }
  ]
}